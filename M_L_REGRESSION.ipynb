{
  "nbformat": 4,
  "nbformat_minor": 0,
  "metadata": {
    "colab": {
      "name": "M.L. REGRESSION.ipynb",
      "provenance": [],
      "collapsed_sections": [],
      "toc_visible": true
    },
    "kernelspec": {
      "display_name": "Python 3",
      "name": "python3"
    }
  },
  "cells": [
    {
      "cell_type": "markdown",
      "metadata": {
        "id": "TnrxJovlJ7oE"
      },
      "source": [
        "\n",
        "### Simple Linear Regression "
      ]
    },
    {
      "cell_type": "code",
      "metadata": {
        "id": "AIx5MjUAK_Ov"
      },
      "source": [
        "import pandas as pd\n",
        "import numpy as np\n",
        "import matplotlib.pyplot as plt"
      ],
      "execution_count": null,
      "outputs": []
    },
    {
      "cell_type": "code",
      "metadata": {
        "id": "VTbOmS3HPixJ"
      },
      "source": [
        "data=pd.read_csv('Assignment-1_Diamond_price.csv')"
      ],
      "execution_count": null,
      "outputs": []
    },
    {
      "cell_type": "code",
      "metadata": {
        "id": "73CHbD-xZdj_",
        "colab": {
          "base_uri": "https://localhost:8080/",
          "height": 195
        },
        "outputId": "1e47a2e6-65e7-4ec5-ec07-7f030448b2c1"
      },
      "source": [
        "data.head()\n"
      ],
      "execution_count": null,
      "outputs": [
        {
          "output_type": "execute_result",
          "data": {
            "text/html": [
              "<div>\n",
              "<style scoped>\n",
              "    .dataframe tbody tr th:only-of-type {\n",
              "        vertical-align: middle;\n",
              "    }\n",
              "\n",
              "    .dataframe tbody tr th {\n",
              "        vertical-align: top;\n",
              "    }\n",
              "\n",
              "    .dataframe thead th {\n",
              "        text-align: right;\n",
              "    }\n",
              "</style>\n",
              "<table border=\"1\" class=\"dataframe\">\n",
              "  <thead>\n",
              "    <tr style=\"text-align: right;\">\n",
              "      <th></th>\n",
              "      <th>carat</th>\n",
              "      <th>price</th>\n",
              "    </tr>\n",
              "  </thead>\n",
              "  <tbody>\n",
              "    <tr>\n",
              "      <th>0</th>\n",
              "      <td>0.23</td>\n",
              "      <td>326</td>\n",
              "    </tr>\n",
              "    <tr>\n",
              "      <th>1</th>\n",
              "      <td>0.21</td>\n",
              "      <td>326</td>\n",
              "    </tr>\n",
              "    <tr>\n",
              "      <th>2</th>\n",
              "      <td>0.23</td>\n",
              "      <td>327</td>\n",
              "    </tr>\n",
              "    <tr>\n",
              "      <th>3</th>\n",
              "      <td>0.29</td>\n",
              "      <td>334</td>\n",
              "    </tr>\n",
              "    <tr>\n",
              "      <th>4</th>\n",
              "      <td>0.31</td>\n",
              "      <td>335</td>\n",
              "    </tr>\n",
              "  </tbody>\n",
              "</table>\n",
              "</div>"
            ],
            "text/plain": [
              "   carat  price\n",
              "0   0.23    326\n",
              "1   0.21    326\n",
              "2   0.23    327\n",
              "3   0.29    334\n",
              "4   0.31    335"
            ]
          },
          "metadata": {
            "tags": []
          },
          "execution_count": 54
        }
      ]
    },
    {
      "cell_type": "code",
      "metadata": {
        "id": "X5T9zVFGWnf8"
      },
      "source": [
        "x= data[['carat']]\n",
        "y= data['price']"
      ],
      "execution_count": null,
      "outputs": []
    },
    {
      "cell_type": "code",
      "metadata": {
        "id": "_91ICGxZqRqF",
        "colab": {
          "base_uri": "https://localhost:8080/",
          "height": 34
        },
        "outputId": "4c1b4d17-fd47-4315-db46-8648904bb953"
      },
      "source": [
        "x.shape"
      ],
      "execution_count": null,
      "outputs": [
        {
          "output_type": "execute_result",
          "data": {
            "text/plain": [
              "(53940, 1)"
            ]
          },
          "metadata": {
            "tags": []
          },
          "execution_count": 56
        }
      ]
    },
    {
      "cell_type": "code",
      "metadata": {
        "id": "MsGykKWBqaR6",
        "colab": {
          "base_uri": "https://localhost:8080/",
          "height": 34
        },
        "outputId": "5a715aa6-30b5-4fe4-881d-46fa541c2f5f"
      },
      "source": [
        "y.shape"
      ],
      "execution_count": null,
      "outputs": [
        {
          "output_type": "execute_result",
          "data": {
            "text/plain": [
              "(53940,)"
            ]
          },
          "metadata": {
            "tags": []
          },
          "execution_count": 57
        }
      ]
    },
    {
      "cell_type": "code",
      "metadata": {
        "id": "k3tLDxoHqgyq"
      },
      "source": [
        "from sklearn.model_selection import train_test_split\n",
        "x_train, x_test,y_train,y_test = train_test_split(x,y)\n"
      ],
      "execution_count": null,
      "outputs": []
    },
    {
      "cell_type": "code",
      "metadata": {
        "id": "vRi8U7_lrS5-",
        "colab": {
          "base_uri": "https://localhost:8080/",
          "height": 34
        },
        "outputId": "e4106847-82ee-4aa3-9a69-938694d73185"
      },
      "source": [
        "x_train.shape"
      ],
      "execution_count": null,
      "outputs": [
        {
          "output_type": "execute_result",
          "data": {
            "text/plain": [
              "(40455, 1)"
            ]
          },
          "metadata": {
            "tags": []
          },
          "execution_count": 59
        }
      ]
    },
    {
      "cell_type": "code",
      "metadata": {
        "id": "k2mbO44Wrboc",
        "colab": {
          "base_uri": "https://localhost:8080/",
          "height": 34
        },
        "outputId": "9e29c72a-4004-4ef4-8708-ad8c636531c5"
      },
      "source": [
        "y_train.shape"
      ],
      "execution_count": null,
      "outputs": [
        {
          "output_type": "execute_result",
          "data": {
            "text/plain": [
              "(40455,)"
            ]
          },
          "metadata": {
            "tags": []
          },
          "execution_count": 60
        }
      ]
    },
    {
      "cell_type": "code",
      "metadata": {
        "id": "NEQvyu5JsCMq",
        "colab": {
          "base_uri": "https://localhost:8080/",
          "height": 34
        },
        "outputId": "4ea5bd8d-6f07-41b2-c43c-16080f337151"
      },
      "source": [
        "x_test.shape"
      ],
      "execution_count": null,
      "outputs": [
        {
          "output_type": "execute_result",
          "data": {
            "text/plain": [
              "(13485, 1)"
            ]
          },
          "metadata": {
            "tags": []
          },
          "execution_count": 61
        }
      ]
    },
    {
      "cell_type": "code",
      "metadata": {
        "id": "_zzvk3BZsKC8",
        "colab": {
          "base_uri": "https://localhost:8080/",
          "height": 34
        },
        "outputId": "20f12b19-a2e9-4144-9e3f-36643a54e16f"
      },
      "source": [
        "y_train.shape"
      ],
      "execution_count": null,
      "outputs": [
        {
          "output_type": "execute_result",
          "data": {
            "text/plain": [
              "(40455,)"
            ]
          },
          "metadata": {
            "tags": []
          },
          "execution_count": 62
        }
      ]
    },
    {
      "cell_type": "code",
      "metadata": {
        "id": "QqGFjzdJtdjT",
        "colab": {
          "base_uri": "https://localhost:8080/",
          "height": 34
        },
        "outputId": "79688b13-de78-44f3-8906-a6356edcc3df"
      },
      "source": [
        "y_test.shape"
      ],
      "execution_count": null,
      "outputs": [
        {
          "output_type": "execute_result",
          "data": {
            "text/plain": [
              "(13485,)"
            ]
          },
          "metadata": {
            "tags": []
          },
          "execution_count": 63
        }
      ]
    },
    {
      "cell_type": "code",
      "metadata": {
        "id": "khmhPTeFuPgr",
        "colab": {
          "base_uri": "https://localhost:8080/",
          "height": 34
        },
        "outputId": "7c601352-625c-4a6f-a814-721c0b33cb68"
      },
      "source": [
        "from sklearn.linear_model import LinearRegression\n",
        "lr= LinearRegression()\n",
        "lr.fit(x_train, y_train)"
      ],
      "execution_count": null,
      "outputs": [
        {
          "output_type": "execute_result",
          "data": {
            "text/plain": [
              "LinearRegression(copy_X=True, fit_intercept=True, n_jobs=None, normalize=False)"
            ]
          },
          "metadata": {
            "tags": []
          },
          "execution_count": 65
        }
      ]
    },
    {
      "cell_type": "code",
      "metadata": {
        "id": "8s9SIfXQuusg"
      },
      "source": [
        "predictions=lr.predict(x_test)\n",
        "Y_pred = lr.predict(x_train)"
      ],
      "execution_count": null,
      "outputs": []
    },
    {
      "cell_type": "code",
      "metadata": {
        "id": "oEARl5YR4XUo"
      },
      "source": [
        "from sklearn.metrics import r2_score"
      ],
      "execution_count": null,
      "outputs": []
    },
    {
      "cell_type": "code",
      "metadata": {
        "id": "NgT2RYTK4pvb"
      },
      "source": [
        "# y_true = [3]\n",
        "y_pred=lr.predict(x_test)\n",
        "r2_score=(y_pred, y_test)"
      ],
      "execution_count": null,
      "outputs": []
    },
    {
      "cell_type": "code",
      "metadata": {
        "id": "5pPGa8nR5K_5",
        "colab": {
          "base_uri": "https://localhost:8080/",
          "height": 295
        },
        "outputId": "242e26d8-5e93-4381-c89d-35189b2bcaf0"
      },
      "source": [
        "plt.scatter(x_train, y_train)\n",
        "plt.plot(x_train, Y_pred, color='black')\n",
        "plt.scatter(x_test, predictions, color='orange')\n",
        "plt.title('Simple Linear Regression')\n",
        "plt.xlabel('CARAT')\n",
        "plt.ylabel('PRICE')\n",
        "plt.show()"
      ],
      "execution_count": null,
      "outputs": [
        {
          "output_type": "display_data",
          "data": {
            "image/png": "[encoded data removed]",
            "text/plain": [
              "<Figure size 432x288 with 1 Axes>"
            ]
          },
          "metadata": {
            "tags": [],
            "needs_background": "light"
          }
        }
      ]
    },
    {
      "cell_type": "code",
      "metadata": {
        "id": "4KimjiUs9fbc",
        "colab": {
          "base_uri": "https://localhost:8080/",
          "height": 295
        },
        "outputId": "a0bc364a-1bf0-48c7-c313-fa0ca710554d"
      },
      "source": [
        "plt.plot(x_train, Y_pred, color='black')\n",
        "plt.scatter(x_test, y_test, color='blue')\n",
        "plt.title('Simple Linear Regression')\n",
        "plt.xlabel('CARAT')\n",
        "plt.ylabel('PRICE')\n",
        "plt.show()"
      ],
      "execution_count": null,
      "outputs": [
        {
          "output_type": "display_data",
          "data": {
            "image/png": "[encoded data removed]",
            "text/plain": [
              "<Figure size 432x288 with 1 Axes>"
            ]
          },
          "metadata": {
            "tags": [],
            "needs_background": "light"
          }
        }
      ]
    },
    {
      "cell_type": "markdown",
      "metadata": {
        "id": "QVOC7f5VBsR7"
      },
      "source": [
        "## Polynomial Regression"
      ]
    },
    {
      "cell_type": "markdown",
      "metadata": {
        "id": "C42ne8OqgnS6"
      },
      "source": [
        ""
      ]
    },
    {
      "cell_type": "code",
      "metadata": {
        "id": "3uMerQGe8WBw"
      },
      "source": [
        "import numpy as np\n",
        "import pandas as pd\n",
        "import matplotlib.pyplot as plt\n",
        "\n",
        "data = pd.read_csv('Assignment-1_Diamond_price.csv')\n",
        "data.head(10)\n",
        "\n",
        "x = data[['carat']]\n",
        "y = data['price']"
      ],
      "execution_count": null,
      "outputs": []
    },
    {
      "cell_type": "code",
      "metadata": {
        "id": "pmDhHINyGWn5"
      },
      "source": [
        "from sklearn.linear_model import LinearRegression\n",
        "lin_reg = LinearRegression()\n",
        "lin_reg.fit(x, y)\n",
        "lin_preds= lin_reg.predict(x)"
      ],
      "execution_count": null,
      "outputs": []
    },
    {
      "cell_type": "code",
      "metadata": {
        "id": "8ISZ-ByQG0SP",
        "colab": {
          "base_uri": "https://localhost:8080/",
          "height": 235
        },
        "outputId": "4b9b3179-15d4-4309-ee12-2b4b00c1117b"
      },
      "source": [
        "from sklearn.preprocessing import  PolynomialFeatures\n",
        "poly_reg = PolynomialFeatures(degree = 5)\n",
        "x_poly = poly_reg.fit_transform(x)\n",
        "#poly_reg.fit(x_poly,y)\n",
        "print(x_poly)"
      ],
      "execution_count": null,
      "outputs": [
        {
          "output_type": "stream",
          "text": [
            "[[1.00000000e+00 2.30000000e-01 5.29000000e-02 1.21670000e-02\n",
            "  2.79841000e-03 6.43634300e-04]\n",
            " [1.00000000e+00 2.10000000e-01 4.41000000e-02 9.26100000e-03\n",
            "  1.94481000e-03 4.08410100e-04]\n",
            " [1.00000000e+00 2.30000000e-01 5.29000000e-02 1.21670000e-02\n",
            "  2.79841000e-03 6.43634300e-04]\n",
            " ...\n",
            " [1.00000000e+00 7.00000000e-01 4.90000000e-01 3.43000000e-01\n",
            "  2.40100000e-01 1.68070000e-01]\n",
            " [1.00000000e+00 8.60000000e-01 7.39600000e-01 6.36056000e-01\n",
            "  5.47008160e-01 4.70427018e-01]\n",
            " [1.00000000e+00 7.50000000e-01 5.62500000e-01 4.21875000e-01\n",
            "  3.16406250e-01 2.37304688e-01]]\n"
          ],
          "name": "stdout"
        }
      ]
    },
    {
      "cell_type": "code",
      "metadata": {
        "id": "j46zLXrDING7"
      },
      "source": [
        "from sklearn.model_selection import train_test_split\n",
        "xtr, xts, ytr, yts=train_test_split(x_poly,y, test_size=0.25, random_state=0)"
      ],
      "execution_count": null,
      "outputs": []
    },
    {
      "cell_type": "code",
      "metadata": {
        "id": "hlRdgSVdIWvd",
        "colab": {
          "base_uri": "https://localhost:8080/",
          "height": 34
        },
        "outputId": "7748cd9a-dda1-4e8d-9f6c-5fcc32c13ded"
      },
      "source": [
        "lin_reg_2 = LinearRegression()\n",
        "model=lin_reg_2.fit(xtr, ytr)\n",
        "lin_reg_2.fit(xtr,ytr)"
      ],
      "execution_count": null,
      "outputs": [
        {
          "output_type": "execute_result",
          "data": {
            "text/plain": [
              "LinearRegression(copy_X=True, fit_intercept=True, n_jobs=None, normalize=False)"
            ]
          },
          "metadata": {
            "tags": []
          },
          "execution_count": 22
        }
      ]
    },
    {
      "cell_type": "code",
      "metadata": {
        "id": "62j8lPj2Il4w"
      },
      "source": [
        "#poly_preds=model.predict(xts)\n",
        "y_pred_poly = lin_reg_2.predict(xts)"
      ],
      "execution_count": null,
      "outputs": []
    },
    {
      "cell_type": "code",
      "metadata": {
        "id": "xX1T6qfEIoAy",
        "colab": {
          "base_uri": "https://localhost:8080/",
          "height": 67
        },
        "outputId": "6ce8c17f-096e-4632-951a-ba12f79e2076"
      },
      "source": [
        "print(model.intercept_)\n",
        "print(model.coef_)\n",
        "#from sklearn.metrics import r2_score\n",
        "#r2_score(yts,poly_preds)*100"
      ],
      "execution_count": null,
      "outputs": [
        {
          "output_type": "stream",
          "text": [
            "1012.6232011320394\n",
            "[    0.         -4070.55631    10877.74512079 -2549.12323664\n",
            "  -280.3126183     84.67917628]\n"
          ],
          "name": "stdout"
        }
      ]
    },
    {
      "cell_type": "code",
      "metadata": {
        "id": "9boxKsMlIobb",
        "colab": {
          "base_uri": "https://localhost:8080/",
          "height": 34
        },
        "outputId": "18e83fcf-2197-4d54-bcd8-ac0f39895914"
      },
      "source": [
        "from sklearn.metrics import r2_score\n",
        "r2_score(y_pred_poly,yts)*100"
      ],
      "execution_count": null,
      "outputs": [
        {
          "output_type": "execute_result",
          "data": {
            "text/plain": [
              "85.09930152739382"
            ]
          },
          "metadata": {
            "tags": []
          },
          "execution_count": 26
        }
      ]
    },
    {
      "cell_type": "code",
      "metadata": {
        "id": "mkFmf3QgInnu",
        "colab": {
          "base_uri": "https://localhost:8080/",
          "height": 295
        },
        "outputId": "d70122f9-abf0-41dc-e63e-a5e0ae6b8d1d"
      },
      "source": [
        "plt.scatter(x, y, color = 'crimson')\n",
        "x_grid=np.arange(0,5, 0.01)\n",
        "x_grid=x_grid.reshape(len(x_grid),1)\n",
        "plt.plot(x_grid,lin_reg_2.predict(poly_reg.fit_transform(x_grid)), color='black')\n",
        "plt.title('Polynomial Regression')\n",
        "plt.xlabel('CARAT')\n",
        "plt.ylabel('PRICE')\n",
        "plt.show()\n"
      ],
      "execution_count": null,
      "outputs": [
        {
          "output_type": "display_data",
          "data": {
            "image/png": "[encoded data removed]",
            "text/plain": [
              "<Figure size 432x288 with 1 Axes>"
            ]
          },
          "metadata": {
            "tags": [],
            "needs_background": "light"
          }
        }
      ]
    }
  ]
}